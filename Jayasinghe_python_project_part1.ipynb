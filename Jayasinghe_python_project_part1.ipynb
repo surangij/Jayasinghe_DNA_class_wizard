{
 "cells": [
  {
   "cell_type": "markdown",
   "id": "c33f7d61-3af1-45c4-b733-ab23210f5138",
   "metadata": {},
   "source": [
    "# A. Make a class called seq \n",
    "\n",
    "## This class should accept the following attributes:\n",
    "### name, organism, sequence, and type. When making an isntance of seq, the input for name will be a string (e.g. 'RAS_G12D') the input for organism will be a string (e.x. 'human'), the input for sequence will be a DNA, RNA, or protein sequence (e.g. 'ATCGAAATC') and the type will be either 'DNA', 'RNA', or 'Protein'\n",
    "\n",
    "## This class should have three methods: \n",
    "### 1. info -this should print the name, type, organism, and sequence of the instance\n",
    "### 2. length -this should count the length of the sequence string\n",
    "### 3. fasta_out -this should write the name, organism, type, and sequence as a fasta file. \n",
    "\n",
    "standard_code = {\n",
    "\"UUU\": \"F\", \"UUC\": \"F\", \"UUA\": \"L\", \"UUG\": \"L\", \"UCU\": \"S\",\n",
    "\"UCC\": \"S\", \"UCA\": \"S\", \"UCG\": \"S\", \"UAU\": \"Y\", \"UAC\": \"Y\",\n",
    "\"UAA\": \"*\", \"UAG\": \"*\", \"UGA\": \"*\", \"UGU\": \"C\", \"UGC\": \"C\",\n",
    "\"UGG\": \"W\", \"CUU\": \"L\", \"CUC\": \"L\", \"CUA\": \"L\", \"CUG\": \"L\",\n",
    "\"CCU\": \"P\", \"CCC\": \"P\", \"CCA\": \"P\", \"CCG\": \"P\", \"CAU\": \"H\",\n",
    "\"CAC\": \"H\", \"CAA\": \"Q\", \"CAG\": \"Q\", \"CGU\": \"R\", \"CGC\": \"R\",\n",
    "\"CGA\": \"R\", \"CGG\": \"R\", \"AUU\": \"I\", \"AUC\": \"I\", \"AUA\": \"I\",\n",
    "\"AUG\": \"M\", \"ACU\": \"T\", \"ACC\": \"T\", \"ACA\": \"T\", \"ACG\": \"T\",\n",
    "\"AAU\": \"N\", \"AAC\": \"N\", \"AAA\": \"K\", \"AAG\": \"K\", \"AGU\": \"S\",\n",
    "\"AGC\": \"S\", \"AGA\": \"R\", \"AGG\": \"R\", \"GUU\": \"V\", \"GUC\": \"V\",\n",
    "\"GUA\": \"V\", \"GUG\": \"V\", \"GCU\": \"A\", \"GCC\": \"A\", \"GCA\": \"A\",\n",
    "\"GCG\": \"A\", \"GAU\": \"D\", \"GAC\": \"D\", \"GAA\": \"E\", \"GAG\": \"E\",\n",
    "\"GGU\": \"G\", \"GGC\": \"G\", \"GGA\": \"G\", \"GGG\": \"G\"}\n",
    "\n",
    "\n",
    "aa_mol_weights={'A':89.09,'C':121.15,'D':133.1,'E':147.13,'F':165.19,\n",
    "'G':75.07,'H':155.16,'I':131.17,'K':146.19,'L':131.17,\n",
    "'M':149.21,'N':132.12,'P':115.13,'Q':146.15,'R':174.2,\n",
    "'S':105.09,'T':119.12,'V':117.15,'W':204.23,'X':0,'Y':181.\n",
    "19}\n"
   ]
  },
  {
   "cell_type": "code",
   "execution_count": 1,
   "id": "7f235639-4e6e-45ac-83bd-c9d22dd38de0",
   "metadata": {},
   "outputs": [],
   "source": [
    "# call the class seq\n",
    "class seq: \n",
    "    # Call instance attributes\n",
    "    def __init__(self, name, organism, sequence, type):\n",
    "     self.name =name\n",
    "     self.organism = organism \n",
    "     self.sequence= sequence\n",
    "     self.type =type \n",
    "    # define the info function \n",
    "    def info(self): \n",
    "        print(self.name)\n",
    "        print(self.organism)\n",
    "        print(self.type)\n",
    "        print(self.sequence)\n",
    "        \n",
    "    \n",
    "    # define the length function\n",
    "    def length(self): \n",
    "         print(len(self.sequence))\n",
    "         \n",
    "   \n",
    "    #define the fasta_out function. \n",
    "    # write to a file using the sequence name as part of the file name\n",
    "    # I have written most of the code for the fasta_out function,\n",
    "    # but you need to add something. What is missing?\n",
    "    # this url may be helpful https://www.w3schools.com/python/python_file_write.asp \n",
    "    def fasta_out(self):\n",
    "        f = open(\"{}.fa\".format(self.name), \"w\")\n",
    "        f.write(\">\" + self.name + \"_\" + self.organism + \"_\" + self.type + \"\\n\" + self.sequence)\n",
    "        f.close()\n",
    "\n",
    "       "
   ]
  },
  {
   "cell_type": "markdown",
   "id": "587bd257-f738-49b0-a2d6-0d80cbe50c16",
   "metadata": {},
   "source": [
    "# B. Test your seq class code using the following instance of seq. \n",
    "## The info function should print \"test_DNA, Human, DNA, AGGCTAT\"\n",
    "## the length function should print \"7\". \n",
    "## Go open the fasta file that is made by fasta out. It should be named test_DNA.fa and the contents should look like this:\n",
    "## >test_DNA_Human_DNA\n",
    "## AGGCTAT"
   ]
  },
  {
   "cell_type": "code",
   "execution_count": 2,
   "id": "93b3d472-6f84-418d-9691-22e17b88efb2",
   "metadata": {},
   "outputs": [
    {
     "name": "stdout",
     "output_type": "stream",
     "text": [
      "test_DNA\n",
      "Human\n",
      "DNA\n",
      "AGGCTAT\n",
      "7\n"
     ]
    }
   ],
   "source": [
    "short_seq_test = seq(name = \"test_DNA\", organism = 'Human',\n",
    "                                  sequence = 'AGGCTAT', type = 'DNA')\n",
    "\n",
    "short_seq_test.info()\n",
    "short_seq_test.length()\n",
    "short_seq_test.fasta_out()"
   ]
  },
  {
   "cell_type": "markdown",
   "id": "5bda4d8b-2034-4877-8e24-c92bcbc9e06c",
   "metadata": {},
   "source": [
    "# C. Using super(), make a new child class of seq called protein\n",
    "## This should have a new attribute called size (For instances of protein, size values will be in kDa, like '52')\n",
    "## Overwrite the parent class seq function fasta_out to include the protein size in the first line of the fasta file\n"
   ]
  },
  {
   "cell_type": "code",
   "execution_count": 26,
   "id": "f9be5986-eaf2-4e70-8b71-fd2dd7d365e9",
   "metadata": {},
   "outputs": [],
   "source": [
    "class protein(seq):\n",
    "        def __init__(self, name, organism, sequence, type, size):\n",
    "             self.size=size \n",
    "             super().__init__(name, organism, sequence, type)  \n",
    "            \n",
    "        def mol_weight(self):\n",
    "            total_mol_weight =0\n",
    "            for aa in self.sequence:\n",
    "                total_mol_weight += aa_mol_weights[aa]\n",
    "            print(total_mol_weight)\n",
    "\n",
    "def fasta_out(self):\n",
    "        filename = (self.name + \".fa\". format(self.name), \"w\")\n",
    "        header = \">\" + self.name + \"_\" + self.organism + \"_\" + self.type + \"_\" + self.size + \"\\n\"\n",
    "        f = open(filename, \"w\")\n",
    "        f.write(header)\n",
    "        f.write(self.sequence)\n",
    "        f.close() "
   ]
  },
  {
   "cell_type": "markdown",
   "id": "935be508-378b-44de-81f7-95a75f420e60",
   "metadata": {},
   "source": [
    "# D. Test the modfied fasta_out function on the following instance of protein:\n",
    "\n",
    "## The fasta file should be named NLS.fa and the contents should be:\n",
    "## >NLS_Human_protein_38\n",
    "## CGGPKKKRLVG"
   ]
  },
  {
   "cell_type": "code",
   "execution_count": 16,
   "id": "cb5aa932-23b1-4b05-bf94-d9a14a0abcab",
   "metadata": {},
   "outputs": [],
   "source": [
    "nls_peptide = protein(name = 'NLS', sequence= 'CGGPKKKRLVG', \n",
    "                      organism = 'Human', type = 'protein', size = '38')\n",
    "\n",
    "nls_peptide.fasta_out()\n"
   ]
  },
  {
   "cell_type": "markdown",
   "id": "77e6259b-1f8e-4810-95b4-6536fb3af9e0",
   "metadata": {},
   "source": [
    "# Questions (write answers here, 1-2 sentences per question).\n",
    "## 1. Why won't rewriting the fasta_out function for protein affect other child classes that inherit from seq?\n",
    "   Rewriting the fasta_out funtion for protein will not affect other child classes. Editing the fasta_out function in the protein class only modifies the method within that particular class. \n",
    "## 2. If we made a child class of protein, which version of the fasta_out method would the new child class have (protein or seq's version)?\n",
    "The new child class would have the protein version."
   ]
  },
  {
   "cell_type": "markdown",
   "id": "dec8093b-43f7-4e8e-98f2-ac452ad0a756",
   "metadata": {},
   "source": [
    "# E. Using super(), make a child class of seq called nucleotide\n",
    "## Make a new method called gc_content that calculates the percent of letters that are G or C and then prints the gc content percentage\n",
    "\n",
    "## for the gc_content method, there are multiple ways to do it, but you may find this page helpful https://www.geeksforgeeks.org/python-count-occurrences-of-a-character-in-string/ "
   ]
  },
  {
   "cell_type": "code",
   "execution_count": 6,
   "id": "dd5a78f5-a7e8-4cf9-9076-f7ee5b66b545",
   "metadata": {},
   "outputs": [],
   "source": [
    "# Write the new nucleotide class here\n",
    "class nucleotide(seq):\n",
    "    def __init__(self, name, organism, sequence, type):\n",
    "        super().__init__(name, organism, sequence, type)\n",
    "\n",
    "    def gc_content(self):\n",
    "       totalcontent= len(self.sequence)\n",
    "       gcContent = self.sequence.count(\"G\")+ self.sequence.count(\"C\")\n",
    "       gcPercent = (gcContent/totalcontent)*100\n",
    "       print(\"GC content: {}%\" .format(gcPercent))\n",
    "\n",
    "            "
   ]
  },
  {
   "cell_type": "markdown",
   "id": "acce4621-75c5-414f-b435-8debf2f4dabb",
   "metadata": {},
   "source": [
    "# F. Test the gc_content method on the following instance of nucleotide. You should get 50.0\n",
    "# Also test the info method- how do these results differ from the modified info method for the protein subclass?"
   ]
  },
  {
   "cell_type": "code",
   "execution_count": 7,
   "id": "87a5f854-6746-4f45-ba10-c4f712aeb78d",
   "metadata": {},
   "outputs": [
    {
     "name": "stdout",
     "output_type": "stream",
     "text": [
      "GC content: 50.0%\n",
      "10\n",
      "GC content: 50.0%\n"
     ]
    }
   ],
   "source": [
    "nucleotide_test_GC = nucleotide(name = 'test_seq', sequence= 'ATCTCGGTCT', \n",
    "                      organism = 'Human', type = 'DNA')\n",
    "\n",
    "nucleotide_test_GC.gc_content()\n",
    "nucleotide_test_GC.length()\n",
    "nucleotide_test_GC.gc_content()"
   ]
  },
  {
   "cell_type": "markdown",
   "id": "c0348be9-5abc-460d-a27f-11c339d0b335",
   "metadata": {},
   "source": [
    "# G. Using super(),make \"Grandchild classes\" DNA and RNA, which will be child classes of nucleotide. So in this analogy they would be like \"grandchildren\" of sequence class. Look at the homework instructions pdf for a schematic. "
   ]
  },
  {
   "cell_type": "markdown",
   "id": "82de4b8d-7302-4b63-b4a4-1de33dfb86bd",
   "metadata": {},
   "source": [
    "## Question: before you make the classes, think: which methods from sequence and nucleotide will the new child classes DNA and RNA inherit? \n",
    "### Write the answer here: \n",
    "#The grandchild class will inherit the gc_content() method from the nucleotide and all methods from the sequence class, since nucleotides #inherits all of its methods besides gc_content from sequence class. So DNA and RNA will inherit length, info, fasta_out(from seq). "
   ]
  },
  {
   "cell_type": "markdown",
   "id": "d9293bbc-8cf5-415d-9dc4-44baea3e6e2c",
   "metadata": {},
   "source": [
    "## G.1 For the DNA class, add a method called transcribe to transcribe the DNA to RNA and print the transcribed sequence (aka replace the Ts in the DNA sequence with Us)"
   ]
  },
  {
   "cell_type": "code",
   "execution_count": 9,
   "id": "36b67dd9-5907-4833-bea2-8b5b01336595",
   "metadata": {},
   "outputs": [
    {
     "name": "stdout",
     "output_type": "stream",
     "text": [
      "Six frames:\n",
      "ATGCGATCGATCGATCGATTAG\n",
      "CTAATCGATCGATCGATCGCAT\n",
      "TGCGATCGATCGATCGATTAG\n",
      "CTAATCGATCGATCGATCGCA\n",
      "GCGATCGATCGATCGATTAG\n",
      "CTAATCGATCGATCGATCGC\n",
      "CTAATCGATCGATCGATCGCAT\n",
      "ATGCGATCGATCGATCGATTAG\n",
      "TAATCGATCGATCGATCGCAT\n",
      "ATGCGATCGATCGATCGATTA\n",
      "AATCGATCGATCGATCGCAT\n",
      "ATGCGATCGATCGATCGATT\n"
     ]
    }
   ],
   "source": [
    "# Write the DNA class here\n",
    "\n",
    "    # For the transcribe method\n",
    "    # This site may be helpful https://www.geeksforgeeks.org/python-string-replace/\n",
    "\n",
    "\n",
    "class DNA(nucleotide):\n",
    "    def __init__(self, name, organism, sequence, type):\n",
    "        super().__init__(name, organism, sequence, type)\n",
    "\n",
    "    def transcribe(self):\n",
    "        rna = self.sequence.replace(\"T\",\"U\")\n",
    "        print(rna)\n",
    "        \n",
    "    def reverse_complement(self):\n",
    "        reverse_dict = {'A': 'T', 'T': 'A', 'C': 'G', 'G': 'C'}\n",
    "        dna_list= list(self.sequence)\n",
    "        reverse_complement_seq = ''.join(reverse_dict[nuc] for nuc in reversed(self.sequence))\n",
    "        return reverse_complement_seq\n",
    "  \n",
    "    \n",
    "    def six_frames(self):\n",
    "        frames = []\n",
    "        frames.extend(self._get_frames(self.sequence))\n",
    "        frames.extend(self._get_frames(self.reverse_complement()))\n",
    "        return frames\n",
    "    \n",
    "    def _get_frames(self, seq):\n",
    "        frames = []\n",
    "        for i in range(3):\n",
    "            frames.append(seq[i:])\n",
    "            frames.append(self._reverse_translate(seq[i:]))\n",
    "        return frames\n",
    "    \n",
    "    def _reverse_translate(self, seq):\n",
    "        reverse_dict = {'A': 'T', 'T': 'A', 'C': 'G', 'G': 'C'}\n",
    "        reverse_complement_seq = ''.join(reverse_dict[base] for base in reversed(seq))\n",
    "        return reverse_complement_seq\n",
    "    \n",
    "dna_seq = \"ATGCGATCGATCGATCGATTAG\"\n",
    "dna = DNA(\"DNA1\", \"Human\", dna_seq, \"coding\")\n",
    "six_frames = dna.six_frames()\n",
    "\n",
    "print(\"Six frames:\")\n",
    "for frame in six_frames:\n",
    "    print(frame)"
   ]
  },
  {
   "cell_type": "markdown",
   "id": "dc6b34bd-4327-437b-91a7-5ef0d7217b61",
   "metadata": {},
   "source": [
    "## G.2 Test the DNA method transcribe, and the other methods info and gc_content on the following instance of DNA:"
   ]
  },
  {
   "cell_type": "code",
   "execution_count": 10,
   "id": "0053dc2c-c092-4134-996e-31bbadbb382c",
   "metadata": {},
   "outputs": [
    {
     "name": "stdout",
     "output_type": "stream",
     "text": [
      "AUCUCGGUCU\n",
      "test_seq_H\n",
      "Human\n",
      "DNA\n",
      "ATCTCGGTCT\n",
      "GC content: 50.0%\n"
     ]
    }
   ],
   "source": [
    "DNA_test_H = DNA(name = 'test_seq_H', sequence= 'ATCTCGGTCT', \n",
    "                      organism = 'Human', type = 'DNA')\n",
    "DNA_test_H.transcribe()\n",
    "DNA_test_H.info()\n",
    "DNA_test_H.gc_content()"
   ]
  },
  {
   "cell_type": "markdown",
   "id": "ba6c55a6-f9a7-4834-9fe0-0c130f6c26fd",
   "metadata": {},
   "source": [
    "## G.3 For the RNA class, add a method called start that will print the index of the start codon (AUG) in a RNA sequence "
   ]
  },
  {
   "cell_type": "markdown",
   "id": "8d688da2-c345-4890-97f4-e1cc54c52d53",
   "metadata": {},
   "source": [
    "## G.4 Test the method start and gc_content on the following instance of RNA:\n",
    "### For the results from start, you should get 3, and for gc_content you should get 53.57...."
   ]
  },
  {
   "cell_type": "code",
   "execution_count": 27,
   "id": "7f714dfe-1a54-47b2-9afa-2bc630e9e6f6",
   "metadata": {
    "scrolled": true
   },
   "outputs": [
    {
     "name": "stdout",
     "output_type": "stream",
     "text": [
      "3\n",
      "test_seq_H\n",
      "Human\n",
      "RNA\n",
      "CCGAUGCGCGCAGCUACGUAGCAAAAAA\n",
      "GC content: 53.57142857142857%\n"
     ]
    }
   ],
   "source": [
    "RNA_test_H = RNA(name = 'test_seq_H', sequence= 'CCGAUGCGCGCAGCUACGUAGCAAAAAA', \n",
    "                      organism = 'Human', type = 'RNA')\n",
    "RNA_test_H.start()\n",
    "RNA_test_H.info()\n",
    "RNA_test_H.gc_content()"
   ]
  },
  {
   "cell_type": "code",
   "execution_count": 13,
   "id": "39afc11f-1ce0-4d65-97a5-ab7da1b10ac0",
   "metadata": {},
   "outputs": [],
   "source": [
    "# Write the RNA class here\n",
    "class RNA(nucleotide):\n",
    "    def __init__(self, name, organism, sequence, type):\n",
    "        super().__init__(name, organism, sequence, type)\n",
    "        \n",
    "        # For the start method\n",
    "    # This site may be https://www.geeksforgeeks.org/python-string-find/      \n",
    "    def start(self):\n",
    "      startIndex = self.sequence.find(\"AUG\")\n",
    "      print(startIndex)\n",
    "        \n",
    "    def translate(self):\n",
    "      \n",
    "        transcript = self.sequence\n",
    "        codon_list = []\n",
    "        protein_sequence = \"\"\n",
    "        for i in range(self.start_index, len(transcript), 3):\n",
    "            codon = transcript[i : i + 3]\n",
    "            if len(codon) == 3:\n",
    "                codon_list.append(codon)\n",
    "\n",
    "        for codon in codon_list:\n",
    "            if standard_code[codon] == \"*\":\n",
    "                break\n",
    "            else:\n",
    "                protein_sequence += standard_code[codon]\n",
    "\n",
    "        print(protein_sequence)\n",
    "        return protein_sequence\n",
    "    \n",
    "    \n"
   ]
  },
  {
   "cell_type": "code",
   "execution_count": 27,
   "id": "dcd86687",
   "metadata": {},
   "outputs": [
    {
     "name": "stdout",
     "output_type": "stream",
     "text": [
      "uidA Reverse complement sequence:\n",
      "uidA Reading frames:\n",
      "CGCAUGUUACGUCCUGUAGAAACCCCAACCCGUGAAAUCAAAAAA\n",
      "<__main__.DNA object at 0x10dba6550>\n"
     ]
    },
    {
     "ename": "TypeError",
     "evalue": "can only concatenate str (not \"NoneType\") to str",
     "output_type": "error",
     "traceback": [
      "\u001b[0;31m---------------------------------------------------------------------------\u001b[0m",
      "\u001b[0;31mTypeError\u001b[0m                                 Traceback (most recent call last)",
      "Cell \u001b[0;32mIn[27], line 18\u001b[0m\n\u001b[1;32m     16\u001b[0m \u001b[38;5;28mprint\u001b[39m(uidA_DNA)\n\u001b[1;32m     17\u001b[0m uiDA_RNA\u001b[38;5;241m=\u001b[39m RNA(name\u001b[38;5;241m=\u001b[39m\u001b[38;5;124m\"\u001b[39m\u001b[38;5;124muidA_RNA\u001b[39m\u001b[38;5;124m\"\u001b[39m, sequence\u001b[38;5;241m=\u001b[39muidA_RNA, organism\u001b[38;5;241m=\u001b[39m \u001b[38;5;124m\"\u001b[39m\u001b[38;5;124mBacteria\u001b[39m\u001b[38;5;124m\"\u001b[39m, \u001b[38;5;28mtype\u001b[39m\u001b[38;5;241m=\u001b[39m \u001b[38;5;124m\"\u001b[39m\u001b[38;5;124mRNA\u001b[39m\u001b[38;5;124m\"\u001b[39m)\n\u001b[0;32m---> 18\u001b[0m uiDA_RNA\u001b[38;5;241m.\u001b[39mfasta_out()\n\u001b[1;32m     19\u001b[0m \u001b[38;5;28mprint\u001b[39m(\u001b[38;5;124m\"\u001b[39m\u001b[38;5;124mStart codon:\u001b[39m\u001b[38;5;124m\"\u001b[39m)\n\u001b[1;32m     20\u001b[0m uiDA_RNA\u001b[38;5;241m.\u001b[39mstart()\n",
      "Cell \u001b[0;32mIn[1], line 29\u001b[0m, in \u001b[0;36mseq.fasta_out\u001b[0;34m(self)\u001b[0m\n\u001b[1;32m     27\u001b[0m \u001b[38;5;28;01mdef\u001b[39;00m \u001b[38;5;21mfasta_out\u001b[39m(\u001b[38;5;28mself\u001b[39m):\n\u001b[1;32m     28\u001b[0m     f \u001b[38;5;241m=\u001b[39m \u001b[38;5;28mopen\u001b[39m(\u001b[38;5;124m\"\u001b[39m\u001b[38;5;132;01m{}\u001b[39;00m\u001b[38;5;124m.fa\u001b[39m\u001b[38;5;124m\"\u001b[39m\u001b[38;5;241m.\u001b[39mformat(\u001b[38;5;28mself\u001b[39m\u001b[38;5;241m.\u001b[39mname), \u001b[38;5;124m\"\u001b[39m\u001b[38;5;124mw\u001b[39m\u001b[38;5;124m\"\u001b[39m)\n\u001b[0;32m---> 29\u001b[0m     f\u001b[38;5;241m.\u001b[39mwrite(\u001b[38;5;124m\"\u001b[39m\u001b[38;5;124m>\u001b[39m\u001b[38;5;124m\"\u001b[39m \u001b[38;5;241m+\u001b[39m \u001b[38;5;28mself\u001b[39m\u001b[38;5;241m.\u001b[39mname \u001b[38;5;241m+\u001b[39m \u001b[38;5;124m\"\u001b[39m\u001b[38;5;124m_\u001b[39m\u001b[38;5;124m\"\u001b[39m \u001b[38;5;241m+\u001b[39m \u001b[38;5;28mself\u001b[39m\u001b[38;5;241m.\u001b[39morganism \u001b[38;5;241m+\u001b[39m \u001b[38;5;124m\"\u001b[39m\u001b[38;5;124m_\u001b[39m\u001b[38;5;124m\"\u001b[39m \u001b[38;5;241m+\u001b[39m \u001b[38;5;28mself\u001b[39m\u001b[38;5;241m.\u001b[39mtype \u001b[38;5;241m+\u001b[39m \u001b[38;5;124m\"\u001b[39m\u001b[38;5;130;01m\\n\u001b[39;00m\u001b[38;5;124m\"\u001b[39m \u001b[38;5;241m+\u001b[39m \u001b[38;5;28mself\u001b[39m\u001b[38;5;241m.\u001b[39msequence)\n\u001b[1;32m     30\u001b[0m     f\u001b[38;5;241m.\u001b[39mclose()\n",
      "\u001b[0;31mTypeError\u001b[0m: can only concatenate str (not \"NoneType\") to str"
     ]
    }
   ],
   "source": [
    "##Part B\n",
    "    #uidA_DNA =CGCATGTTACGTCCTGTAGAAACCCCAACCCGTGAAATCAAAAAA\n",
    "uidA_DNA = DNA(\n",
    "name= \"uidA_DNA\",\n",
    "sequence= \"CGCATGTTACGTCCTGTAGAAACCCCAACCCGTGAAATCAAAAAA\",\n",
    "organism= \"Bacteria\",\n",
    "type= \"DNA\")\n",
    "\n",
    "uidA_DNA.fasta_out()\n",
    "print(\"uidA Reverse complement sequence:\")\n",
    "uidA_DNA.reverse_complement()\n",
    "print(\"uidA Reading frames:\")\n",
    "uidA_DNA.six_frames()\n",
    "\n",
    "uidA_RNA= uidA_DNA.transcribe()\n",
    "print(uidA_DNA)\n",
    "uiDA_RNA= RNA(name=\"uidA_RNA\", sequence=uidA_RNA, organism= \"Bacteria\", type= \"RNA\")\n",
    "uiDA_RNA.fasta_out()\n",
    "print(\"Start codon:\")\n",
    "uiDA_RNA.start()\n",
    "print(\"protein seq:\")\n",
    "uidA_protein= uiDA_RNA.translate()\n",
    "\n",
    "uiDA_protein=protein(\n",
    "name= \"uiDA_protein\")\n",
    "sequence=uidA_protein,\n",
    "organism=\"Bacteria\"\n",
    "type= \"protein\",\n",
    "size= str(len(uiDA_protein))\n",
    "    \n",
    "uiDA_protein.fast_out()\n",
    "print(\"Molecular wieght\")\n",
    "uiDA_protein.mole_weight()    \n",
    " "
   ]
  },
  {
   "cell_type": "code",
   "execution_count": null,
   "id": "007bdbd0",
   "metadata": {},
   "outputs": [],
   "source": []
  }
 ],
 "metadata": {
  "kernelspec": {
   "display_name": "Python 3 (ipykernel)",
   "language": "python",
   "name": "python3"
  },
  "language_info": {
   "codemirror_mode": {
    "name": "ipython",
    "version": 3
   },
   "file_extension": ".py",
   "mimetype": "text/x-python",
   "name": "python",
   "nbconvert_exporter": "python",
   "pygments_lexer": "ipython3",
   "version": "3.11.5"
  }
 },
 "nbformat": 4,
 "nbformat_minor": 5
}
